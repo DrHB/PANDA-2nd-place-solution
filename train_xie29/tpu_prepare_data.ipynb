{
 "cells": [
  {
   "cell_type": "code",
   "execution_count": null,
   "metadata": {},
   "outputs": [],
   "source": [
    "import os\n",
    "import json\n",
    "import pandas as pd\n",
    "from kaggle_datasets import KaggleDatasets\n",
    "\n",
    "with open('../input/settings_json/SETTINGS.json') as f:\n",
    "    CONFIG = json.load(f)\n",
    "\n",
    "#ptfrecord1 kaggle dataset link : https://www.kaggle.com/xiejialun/ptfrecord1\n",
    "#ptfrecord2 kaggle dataset link : https://www.kaggle.com/xiejialun/ptfrecord2\n",
    "#ptfrecord3 kaggle dataset link : https://www.kaggle.com/xiejialun/ptfrecord3\n",
    "#ptfrecord4 kaggle dataset link : https://www.kaggle.com/xiejialun/ptfrecord4\n",
    "#ptfrecord5 kaggle dataset link : https://www.kaggle.com/xiejialun/ptfrecord5\n",
    "GCS_DS_PATH1 = KaggleDatasets().get_gcs_path(CONFIG['TRAIN_DATA_CLEAN_PATH_1'])\n",
    "GCS_DS_PATH2 = KaggleDatasets().get_gcs_path(CONFIG['TRAIN_DATA_CLEAN_PATH_2'])\n",
    "GCS_DS_PATH3 = KaggleDatasets().get_gcs_path(CONFIG['TRAIN_DATA_CLEAN_PATH_3'])\n",
    "GCS_DS_PATH4 = KaggleDatasets().get_gcs_path(CONFIG['TRAIN_DATA_CLEAN_PATH_4'])\n",
    "GCS_DS_PATH5 = KaggleDatasets().get_gcs_path(CONFIG['TRAIN_DATA_CLEAN_PATH_5'])\n",
    "\n",
    "df = pd.DataFrame(columns = ['path_title', 'path'])\n",
    "df = df.append({'path_title' : 'GCS_DS_PATH1', 'path' : GCS_DS_PATH1}, ignore_index=True)\n",
    "df = df.append({'path_title' : 'GCS_DS_PATH2', 'path' : GCS_DS_PATH2}, ignore_index=True)\n",
    "df = df.append({'path_title' : 'GCS_DS_PATH3', 'path' : GCS_DS_PATH3}, ignore_index=True)\n",
    "df = df.append({'path_title' : 'GCS_DS_PATH4', 'path' : GCS_DS_PATH4}, ignore_index=True)\n",
    "df = df.append({'path_title' : 'GCS_DS_PATH5', 'path' : GCS_DS_PATH5}, ignore_index=True)\n",
    "\n",
    "df.to_csv(os.path.join('/kaggle/working/gcs_paths.csv'), index=False)"
   ]
  }
 ],
 "metadata": {
  "kernelspec": {
   "display_name": "Python 3",
   "language": "python",
   "name": "python3"
  },
  "language_info": {
   "codemirror_mode": {
    "name": "ipython",
    "version": 3
   },
   "file_extension": ".py",
   "mimetype": "text/x-python",
   "name": "python",
   "nbconvert_exporter": "python",
   "pygments_lexer": "ipython3",
   "version": "3.7.3"
  }
 },
 "nbformat": 4,
 "nbformat_minor": 2
}
